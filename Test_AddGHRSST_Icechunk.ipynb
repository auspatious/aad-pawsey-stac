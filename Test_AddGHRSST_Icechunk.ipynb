{
 "cells": [
  {
   "cell_type": "code",
   "execution_count": null,
   "id": "8d0b8d22",
   "metadata": {},
   "outputs": [],
   "source": [
    "import stacrs\n",
    "import pystac\n",
    "from odc.stac import load\n",
    "from arraylake import Client as ArrayLakeClient\n",
    "from dask.distributed import Client as DaskClient\n"
   ]
  },
  {
   "cell_type": "code",
   "execution_count": null,
   "id": "73c73ce8",
   "metadata": {},
   "outputs": [],
   "source": [
    "url = \"https://data.source.coop/ausantarctic/ghrsst-mur-v2/ghrsst-mur-v2.parquet\"\n",
    "\n",
    "dicts = await stacrs.read(url)\n",
    "items = [pystac.Item.from_dict(d) for d in dicts[\"features\"]]\n",
    "less_items = [i for i in items if i.datetime.year == 2025]\n"
   ]
  },
  {
   "cell_type": "code",
   "execution_count": null,
   "id": "5bc1b41a",
   "metadata": {},
   "outputs": [],
   "source": [
    "less_items = [i for i in items if i.datetime.year == 2025]\n",
    "\n",
    "print(f\"Loaded {len(items)} items, filtered to {len(less_items)} items\")"
   ]
  },
  {
   "cell_type": "code",
   "execution_count": null,
   "id": "f918ae02",
   "metadata": {},
   "outputs": [],
   "source": [
    "data = load(\n",
    "    items,\n",
    "    chunks={\"longitude\": 4000, \"latitude\": 4000, \"time\": 1},\n",
    "    measurements=[\"analysed_sst\"],\n",
    "    fail_on_error=False\n",
    ")\n",
    "\n",
    "data"
   ]
  },
  {
   "cell_type": "code",
   "execution_count": null,
   "id": "dfd2104a",
   "metadata": {},
   "outputs": [],
   "source": [
    "# Filter the xarray to data just for 2025\n",
    "data_2025 = data.sel(time=slice(\"2025-01-01\", \"2025-12-31\"))\n",
    "data_2025"
   ]
  },
  {
   "cell_type": "code",
   "execution_count": null,
   "id": "6b62a25c",
   "metadata": {},
   "outputs": [],
   "source": [
    "# Instantiate the Arraylake client\n",
    "client = ArrayLakeClient()\n",
    "\n",
    "# Checkout the repo\n",
    "repo = client.get_repo(\"AustralianAntarcticDivision/ghrsst-testing\")\n",
    "session = repo.writable_session(\"main\")"
   ]
  },
  {
   "cell_type": "code",
   "execution_count": null,
   "id": "094602fa",
   "metadata": {},
   "outputs": [],
   "source": [
    "# # Set up dask\n",
    "# dask_client = DaskClient()\n",
    "# dask_client"
   ]
  },
  {
   "cell_type": "code",
   "execution_count": null,
   "id": "30571f6e",
   "metadata": {},
   "outputs": [],
   "source": [
    "# Create some data with Xarray\n",
    "data_2025.to_zarr(session.store, group=\"analysed_sst\", zarr_format=3, mode=\"a\", append_dim=\"time\")\n",
    "\n",
    "# Make your first commit\n",
    "session.commit('Initial Commit')"
   ]
  },
  {
   "cell_type": "code",
   "execution_count": null,
   "id": "46ccc38b",
   "metadata": {},
   "outputs": [],
   "source": [
    "import xarray as xr\n",
    "\n",
    "client = ArrayLakeClient()\n",
    "repo = client.get_repo(\"AustralianAntarcticDivision/ghrsst-testing\")\n",
    "session = repo.readonly_session(\"main\")\n",
    "\n",
    "ds = xr.open_zarr(session.store, group=\"analysed_sst\", consolidated=True)\n",
    "ds"
   ]
  }
 ],
 "metadata": {
  "kernelspec": {
   "display_name": "Python 3",
   "language": "python",
   "name": "python3"
  },
  "language_info": {
   "codemirror_mode": {
    "name": "ipython",
    "version": 3
   },
   "file_extension": ".py",
   "mimetype": "text/x-python",
   "name": "python",
   "nbconvert_exporter": "python",
   "pygments_lexer": "ipython3",
   "version": "3.11.11"
  }
 },
 "nbformat": 4,
 "nbformat_minor": 5
}
