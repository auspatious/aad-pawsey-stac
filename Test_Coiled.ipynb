{
 "cells": [
  {
   "cell_type": "code",
   "execution_count": null,
   "id": "189ffbf2",
   "metadata": {},
   "outputs": [],
   "source": [
    "import coiled\n",
    "import distributed\n",
    "import pystac\n",
    "import stacrs\n",
    "from arraylake import Client as ArrayLakeClient\n",
    "from odc.stac import load"
   ]
  },
  {
   "cell_type": "code",
   "execution_count": null,
   "id": "92abc64e",
   "metadata": {},
   "outputs": [],
   "source": [
    "# coiled.list_instance_types(arch=\"x86_64\")"
   ]
  },
  {
   "cell_type": "code",
   "execution_count": null,
   "id": "14777a2b",
   "metadata": {},
   "outputs": [],
   "source": [
    "url = \"https://data.source.coop/ausantarctic/ghrsst-mur-v2/ghrsst-mur-v2.parquet\"\n",
    "\n",
    "dicts = await stacrs.read(url)\n",
    "items = [pystac.Item.from_dict(d) for d in dicts[\"features\"]]\n",
    "\n",
    "# There's data going back to 2002, but we only want 2025\n",
    "less_items = [i for i in items if i.datetime.year == 2025]"
   ]
  },
  {
   "cell_type": "code",
   "execution_count": null,
   "id": "b923812f",
   "metadata": {},
   "outputs": [],
   "source": [
    "data = load(\n",
    "    less_items,\n",
    "    chunks={\"longitude\": 1024, \"latitude\": 1024, \"time\": 1},\n",
    "    measurements=[\"analysed_sst\"],\n",
    "    fail_on_error=False\n",
    ")\n",
    "\n",
    "data"
   ]
  },
  {
   "cell_type": "code",
   "execution_count": null,
   "id": "18002545",
   "metadata": {},
   "outputs": [],
   "source": [
    "# coiled.create_software_environment(\n",
    "#     name=\"ghrsst-ingest-test\",\n",
    "#     pip=[\n",
    "#         \"arraylake\",\n",
    "#         \"coiled\",\n",
    "#         \"dask[complete]\",\n",
    "#         \"icechunk\",\n",
    "#         \"odc-stac\",\n",
    "#         \"stacrs\",\n",
    "#         \"xarray\"\n",
    "#     ],\n",
    "# )"
   ]
  },
  {
   "cell_type": "code",
   "execution_count": null,
   "id": "ade42415",
   "metadata": {},
   "outputs": [],
   "source": [
    "cluster = coiled.Cluster(\n",
    "    n_workers=[10, 200],\n",
    "    software=\"ghrsst-ingest-test\",\n",
    "    name=\"write-ghrsst-2\",\n",
    "    idle_timeout=\"10m\",\n",
    "    region=\"us-west-2\",\n",
    "    spot_policy=\"spot_with_fallback\",\n",
    "    worker_vm_types=[\"m6i.xlarge\", \"r7a.xlarge\", \"c7a.xlarge\", \"m5d.xlarge\"],\n",
    ")"
   ]
  },
  {
   "cell_type": "code",
   "execution_count": null,
   "id": "50c5dc08",
   "metadata": {},
   "outputs": [],
   "source": [
    "# cluster.shutdown()"
   ]
  },
  {
   "cell_type": "code",
   "execution_count": null,
   "id": "06588aab",
   "metadata": {},
   "outputs": [],
   "source": [
    "client = distributed.Client(cluster)\n",
    "client"
   ]
  },
  {
   "cell_type": "code",
   "execution_count": null,
   "id": "f182f84f",
   "metadata": {},
   "outputs": [],
   "source": [
    "# Instantiate the Arraylake client\n",
    "client = ArrayLakeClient()\n",
    "\n",
    "# Checkout the repo\n",
    "repo = client.get_repo(\"AustralianAntarcticDivision/ghrsst-testing-coiiled\")\n",
    "session = repo.writable_session(\"main\")"
   ]
  },
  {
   "cell_type": "code",
   "execution_count": null,
   "id": "27417d62",
   "metadata": {},
   "outputs": [],
   "source": [
    "# Make your first commit\n",
    "with session.allow_pickling():\n",
    "    data.to_zarr(session.store, group=\"analysed_sst\", zarr_format=3, mode=\"a\")\n",
    "    session.commit('New commit')"
   ]
  }
 ],
 "metadata": {
  "kernelspec": {
   "display_name": "Python 3",
   "language": "python",
   "name": "python3"
  },
  "language_info": {
   "codemirror_mode": {
    "name": "ipython",
    "version": 3
   },
   "file_extension": ".py",
   "mimetype": "text/x-python",
   "name": "python",
   "nbconvert_exporter": "python",
   "pygments_lexer": "ipython3",
   "version": "3.11.11"
  }
 },
 "nbformat": 4,
 "nbformat_minor": 5
}
